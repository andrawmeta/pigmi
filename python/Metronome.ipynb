{
 "metadata": {
  "name": "Metronome"
 },
 "nbformat": 3,
 "nbformat_minor": 0,
 "worksheets": [
  {
   "cells": [
    {
     "cell_type": "code",
     "collapsed": false,
     "input": [
      "def last_tick_time(tempo, cur_time):\n",
      "    reference_sec = np.floor(cur_time / 1000) * 1000   \n",
      "    sec_per_tick = 60.0 / tempo\n",
      "    return reference_sec + np.floor((cur_time - reference_sec) / sec_per_tick) * sec_per_tick\n",
      "\n",
      "def last_reference_sec(cur_time):\n",
      "    reference_sec = np.floor(cur_time / 1000) * 1000\n",
      "    \n",
      "def sec_per_tick(tempo):\n",
      "    return 60.0 / tempo"
     ],
     "language": "python",
     "metadata": {},
     "outputs": [],
     "prompt_number": 1
    },
    {
     "cell_type": "code",
     "collapsed": false,
     "input": [
      "import numpy as np\n",
      "import time\n",
      "import pyaudio\n",
      "import wave\n",
      "import sys\n",
      "import threading\n",
      "\n",
      "def play_tick(data):\n",
      "    # print 'time: %3.4f' % time.time()\n",
      "    stream.write(data)\n",
      "\n",
      "CHUNK = 100000\n",
      "lookahead = 0.002\n",
      "n_ticks = 1000\n",
      "tempo = 140\n",
      "\n",
      "wf = wave.open('/home/pi/global_metronome/onset_tick.wav')\n",
      "p = pyaudio.PyAudio()\n",
      "stream = p.open(format=p.get_format_from_width(wf.getsampwidth()),\n",
      "                channels=wf.getnchannels(),\n",
      "                rate= wf.getframerate(),\n",
      "                output=True)\n",
      "\n",
      "data = wf.readframes(CHUNK)\n",
      "\n",
      "i = 0\n",
      "ms_old = 0.0\n",
      "last_tick = last_tick_time(tempo, time.time())\n",
      "tick_period = sec_per_tick(tempo)\n",
      "next_tick = last_tick + tick_period\n",
      "while i < n_ticks:\n",
      "    offset = next_tick - time.time()\n",
      "    if offset < lookahead:\n",
      "        threading.Timer(offset, play_tick, ([data])).start()\n",
      "        # print 'offset: %.4f' % offset\n",
      "        last_tick = next_tick\n",
      "        next_tick = next_tick + tick_period\n",
      "        i = i + 1\n",
      "        time.sleep(offset+lookahead)\n",
      "    else:\n",
      "        time.sleep(0.001)"
     ],
     "language": "python",
     "metadata": {},
     "outputs": [],
     "prompt_number": "*"
    },
    {
     "cell_type": "markdown",
     "metadata": {},
     "source": [
      "##Testing pyaudio"
     ]
    },
    {
     "cell_type": "code",
     "collapsed": false,
     "input": [
      "import pyaudio\n",
      "p = pyaudio.PyAudio()\n",
      "import wave"
     ],
     "language": "python",
     "metadata": {},
     "outputs": [],
     "prompt_number": 3
    },
    {
     "cell_type": "code",
     "collapsed": false,
     "input": [
      "wf = wave.open('/home/pi/global_metronome/onset_tick.wav')\n",
      "stream = p.open(format=p.get_format_from_width(wf.getsampwidth()),\n",
      "                channels=wf.getnchannels(),\n",
      "                rate= wf.getframerate(),\n",
      "                output=True)"
     ],
     "language": "python",
     "metadata": {},
     "outputs": [],
     "prompt_number": 4
    },
    {
     "cell_type": "code",
     "collapsed": false,
     "input": [
      "p.terminate()"
     ],
     "language": "python",
     "metadata": {},
     "outputs": [],
     "prompt_number": "*"
    },
    {
     "cell_type": "code",
     "collapsed": false,
     "input": [
      "float('5.5')"
     ],
     "language": "python",
     "metadata": {},
     "outputs": [
      {
       "output_type": "pyout",
       "prompt_number": 10,
       "text": [
        "5.5"
       ]
      }
     ],
     "prompt_number": 10
    },
    {
     "cell_type": "code",
     "collapsed": false,
     "input": [],
     "language": "python",
     "metadata": {},
     "outputs": []
    }
   ],
   "metadata": {}
  }
 ]
}